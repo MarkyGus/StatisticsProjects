{
 "cells": [
  {
   "cell_type": "code",
   "execution_count": 1,
   "metadata": {},
   "outputs": [],
   "source": [
    "import tbapy\n",
    "import matplotlib.pyplot as plt\n",
    "\n",
    "tba = tbapy.TBA(\"gl4GXuoqG8anLUrLo356LIeeQZk15cfSoXF72YT3mYkI38cCoAmReoCSSF4XWccQ\")"
   ]
  },
  {
   "cell_type": "code",
   "execution_count": 2,
   "metadata": {},
   "outputs": [],
   "source": [
    "def get_old_rp(match, alliance):\n",
    "    if match['comp_level'] != 'qm':\n",
    "        return None\n",
    "    rps = 0\n",
    "    if len(match[\"score_breakdown\"][alliance][\"links\"]) > (4 if match[\"score_breakdown\"][alliance][\"coopertitionCriteriaMet\"] else 5):\n",
    "        rps += 1\n",
    "    if match[\"score_breakdown\"][alliance][\"sustainabilityBonusAchieved\"]:\n",
    "        rps += 1\n",
    "    if match[\"winning_alliance\"] == alliance:\n",
    "        rps += 2\n",
    "    elif match[\"winning_alliance\"] == \"\":\n",
    "        rps += 1\n",
    "    return rps\n",
    "\n",
    "def get_new_rp(match, alliance):\n",
    "    if match['comp_level'] != 'qm':\n",
    "        return None\n",
    "    rps = 0\n",
    "    if len(match[\"score_breakdown\"][alliance][\"links\"]) > (5 if match[\"score_breakdown\"][alliance][\"coopertitionCriteriaMet\"] else 6):\n",
    "        rps += 1\n",
    "    if match[\"score_breakdown\"][alliance][\"sustainabilityBonusAchieved\"]:\n",
    "        rps += 1\n",
    "    if match[\"winning_alliance\"] == alliance:\n",
    "        rps += 2\n",
    "    elif match[\"winning_alliance\"] == \"\":\n",
    "        rps += 1\n",
    "    return rps"
   ]
  },
  {
   "cell_type": "code",
   "execution_count": 31,
   "metadata": {},
   "outputs": [
    {
     "name": "stdout",
     "output_type": "stream",
     "text": [
      "FIRST Chesapeake District Championship\n",
      "Peachtree District Championship\n",
      "FIRST Indiana State Championship\n",
      "FIRST Israel District Championship\n",
      "FIRST in Michigan State Championship presented by DTE Foundation\n",
      "FIRST in Michigan State Championship presented by DTE Foundation - DTE ENERGY FOUNDATION Division\n",
      "FIRST in Michigan State Championship presented by DTE Foundation - FORD Division\n",
      "FIRST in Michigan State Championship presented by DTE Foundation - APTIV Division\n",
      "FIRST in Michigan State Championship presented by DTE Foundation - CONSUMERS ENERGY Division\n",
      "FIRST Mid-Atlantic District Championship\n",
      "FIRST North Carolina District State Championship\n",
      "New England FIRST District Championship\n",
      "New England FIRST District Championship - MEIR Division\n",
      "New England FIRST District Championship - WILSON Division\n",
      "FIRST Ontario Provincial Championship\n",
      "FIRST Ontario Provincial Championship - TECHNOLOGY Division\n",
      "FIRST Ontario Provincial Championship - SCIENCE Division\n",
      "Pacific Northwest FIRST District Championship\n",
      "FIRST In Texas District Championship presented by Phillips 66\n",
      "FIRST In Texas District Championship presented by Phillips 66 - APOLLO Division\n",
      "FIRST In Texas District Championship presented by Phillips 66 - MERCURY Division\n"
     ]
    }
   ],
   "source": [
    "events = tba.events(2023, simple=True)  # Get all events for 2023\n",
    "events = filter(lambda x: x[\"event_type\"] in [2,5], events) # Only DCMP events\n",
    "\n",
    "quals = []\n",
    "elims = []\n",
    "rank_change = []\n",
    "\n",
    "for event in events:\n",
    "    print(event[\"name\"])\n",
    "    \n",
    "    old_rps = {}\n",
    "    new_rps = {}\n",
    "\n",
    "    matches = tba.event_matches(event[\"key\"])  # Get all matches for event\n",
    "    for match in matches:\n",
    "        if match[\"comp_level\"] == \"qm\": # Qualification match\n",
    "            # Add game piece count to quals list\n",
    "            quals.append(match[\"score_breakdown\"][\"red\"][\"teleopGamePieceCount\"])\n",
    "            quals.append(match[\"score_breakdown\"][\"blue\"][\"teleopGamePieceCount\"])\n",
    "\n",
    "            # Calculate old and new RPs & avg match score (1st tiebreaker)\n",
    "            for team in match[\"alliances\"][\"red\"][\"team_keys\"]:\n",
    "                if team not in old_rps:\n",
    "                    old_rps[team] = [0,0]\n",
    "                    new_rps[team] = [0,0]\n",
    "                old_rps[team][0] += get_old_rp(match, \"red\")\n",
    "                old_rps[team][1] += match[\"alliances\"][\"red\"][\"score\"]\n",
    "                new_rps[team][0] += get_new_rp(match, \"red\")\n",
    "                new_rps[team][1] += match[\"alliances\"][\"red\"][\"score\"]\n",
    "            for team in match[\"alliances\"][\"blue\"][\"team_keys\"]:\n",
    "                if team not in old_rps:\n",
    "                    old_rps[team] = [0,0]\n",
    "                    new_rps[team] = [0,0]\n",
    "                old_rps[team][0] += get_old_rp(match, \"blue\")\n",
    "                old_rps[team][1] += match[\"alliances\"][\"blue\"][\"score\"]\n",
    "                new_rps[team][0] += get_new_rp(match, \"blue\")\n",
    "                new_rps[team][1] += match[\"alliances\"][\"blue\"][\"score\"]\n",
    "        \n",
    "        else:   # Elimination match\n",
    "            # Add game piece count to elims list\n",
    "            elims.append(match[\"score_breakdown\"][\"red\"][\"teleopGamePieceCount\"])\n",
    "            elims.append(match[\"score_breakdown\"][\"blue\"][\"teleopGamePieceCount\"])\n",
    "    \n",
    "    # Sort teams by RPs and calculate rank change\n",
    "    old_rps = dict(zip([team for team,rps in sorted(old_rps.items(), key=lambda x: x[1], reverse=True)], range(1, len(old_rps)+1)))\n",
    "    new_rps = dict(zip([team for team,rps in sorted(new_rps.items(), key=lambda x: x[1], reverse=True)], range(1, len(new_rps)+1)))\n",
    "    for team, old_rank in old_rps.items():\n",
    "        rank_change.append(new_rps[team] - old_rank)"
   ]
  },
  {
   "cell_type": "code",
   "execution_count": 32,
   "metadata": {},
   "outputs": [
    {
     "data": {
      "image/png": "[encoded data removed]",
      "text/plain": [
       "<Figure size 432x288 with 1 Axes>"
      ]
     },
     "metadata": {
      "needs_background": "light"
     },
     "output_type": "display_data"
    },
    {
     "data": {
      "image/png": "[encoded data removed]",
      "text/plain": [
       "<Figure size 432x288 with 1 Axes>"
      ]
     },
     "metadata": {
      "needs_background": "light"
     },
     "output_type": "display_data"
    }
   ],
   "source": [
    "# Plot game piece count histograms\n",
    "plt.figure()\n",
    "bins = range(0,27)\n",
    "plt.hist([quals, elims], bins=bins, label=[\"quals\", \"elims\"])\n",
    "plt.title(\"DCMP Game Pieces Per Match\")\n",
    "plt.xlabel(\"Game Piece Count\")\n",
    "plt.ylabel(\"Frequency\")\n",
    "plt.legend()\n",
    "plt.show()\n",
    "\n",
    "# Plot rank change histogram\n",
    "plt.figure()\n",
    "plt.hist(rank_change, bins=range(-10,10))\n",
    "plt.title(\"DCMP Rank Change\")\n",
    "plt.xlabel(\"Rank Change\")\n",
    "plt.ylabel(\"Frequency\")\n",
    "plt.show()"
   ]
  }
 ],
 "metadata": {
  "kernelspec": {
   "display_name": ".venv",
   "language": "python",
   "name": "python3"
  },
  "language_info": {
   "codemirror_mode": {
    "name": "ipython",
    "version": 3
   },
   "file_extension": ".py",
   "mimetype": "text/x-python",
   "name": "python",
   "nbconvert_exporter": "python",
   "pygments_lexer": "ipython3",
   "version": "3.7.4"
  },
  "orig_nbformat": 4
 },
 "nbformat": 4,
 "nbformat_minor": 2
}
